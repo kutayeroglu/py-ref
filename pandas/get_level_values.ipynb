{
 "cells": [
  {
   "cell_type": "markdown",
   "metadata": {},
   "source": [
    "# pandas.MultiIndex.get_level_values </br>\n",
    "doc: https://pandas.pydata.org/docs/reference/api/pandas.Index.get_level_values.html"
   ]
  },
  {
   "cell_type": "code",
   "execution_count": 13,
   "metadata": {},
   "outputs": [
    {
     "name": "stdout",
     "output_type": "stream",
     "text": [
      "Pandas version: 2.2.2\n"
     ]
    }
   ],
   "source": [
    "import pandas as pd\n",
    "print(f\"Pandas version: {pd.__version__}\")"
   ]
  },
  {
   "cell_type": "code",
   "execution_count": 2,
   "metadata": {},
   "outputs": [],
   "source": [
    "idx = pd.Index(list('abc'))"
   ]
  },
  {
   "cell_type": "code",
   "execution_count": 3,
   "metadata": {},
   "outputs": [
    {
     "name": "stdout",
     "output_type": "stream",
     "text": [
      "Index(['a', 'b', 'c'], dtype='object')\n"
     ]
    }
   ],
   "source": [
    "print(idx)"
   ]
  },
  {
   "cell_type": "code",
   "execution_count": 4,
   "metadata": {},
   "outputs": [
    {
     "data": {
      "text/plain": [
       "Index(['a', 'b', 'c'], dtype='object')"
      ]
     },
     "execution_count": 4,
     "metadata": {},
     "output_type": "execute_result"
    }
   ],
   "source": [
    "idx.get_level_values(level=0)"
   ]
  },
  {
   "cell_type": "markdown",
   "metadata": {},
   "source": [
    "For `Index`, level should be 0, since there are no multiple levels. </br>\n",
    "Following is an example of a wrong usage."
   ]
  },
  {
   "cell_type": "code",
   "execution_count": 5,
   "metadata": {},
   "outputs": [
    {
     "name": "stdout",
     "output_type": "stream",
     "text": [
      "Error: Too many levels: Index has only 1 level, not 2\n"
     ]
    }
   ],
   "source": [
    "try:\n",
    "    print(idx.get_level_values(level=1))\n",
    "except Exception as e:\n",
    "    print(f\"Error: {e}\")"
   ]
  },
  {
   "cell_type": "code",
   "execution_count": 6,
   "metadata": {},
   "outputs": [],
   "source": [
    "del idx"
   ]
  },
  {
   "cell_type": "markdown",
   "metadata": {},
   "source": [
    "# MultiIndex.get_level_values </br>\n",
    "doc: https://pandas.pydata.org/docs/reference/api/pandas.MultiIndex.get_level_values.html"
   ]
  },
  {
   "cell_type": "code",
   "execution_count": 7,
   "metadata": {},
   "outputs": [
    {
     "name": "stdout",
     "output_type": "stream",
     "text": [
      "MultiIndex([('a', 'd'),\n",
      "            ('b', 'e'),\n",
      "            ('c', 'f')],\n",
      "           names=['level_a', 'level_b'])\n"
     ]
    }
   ],
   "source": [
    "tmp = pd.MultiIndex.from_arrays((list('abc'), list('def')))\n",
    "tmp.names = ['level_a', 'level_b']\n",
    "print(tmp)"
   ]
  },
  {
   "cell_type": "markdown",
   "metadata": {},
   "source": [
    "There are two ways of retrieving indices\n",
    "- Integer position of the level in the `MultiIndex`\n",
    "- Name of the level"
   ]
  },
  {
   "cell_type": "code",
   "execution_count": 8,
   "metadata": {},
   "outputs": [
    {
     "name": "stdout",
     "output_type": "stream",
     "text": [
      "Index(['a', 'b', 'c'], dtype='object', name='level_a')\n",
      "Index(['a', 'b', 'c'], dtype='object', name='level_a')\n"
     ]
    }
   ],
   "source": [
    "print(tmp.get_level_values(level=0))\n",
    "print(tmp.get_level_values(level='level_a'))"
   ]
  },
  {
   "cell_type": "code",
   "execution_count": 9,
   "metadata": {},
   "outputs": [
    {
     "name": "stdout",
     "output_type": "stream",
     "text": [
      "Index(['d', 'e', 'f'], dtype='object', name='level_b')\n",
      "Index(['d', 'e', 'f'], dtype='object', name='level_b')\n"
     ]
    }
   ],
   "source": [
    "print(tmp.get_level_values(level=1))\n",
    "print(tmp.get_level_values(level='level_b'))"
   ]
  },
  {
   "cell_type": "code",
   "execution_count": 10,
   "metadata": {},
   "outputs": [
    {
     "name": "stdout",
     "output_type": "stream",
     "text": [
      "Error: Too many levels: Index has only 2 levels, not 3\n"
     ]
    }
   ],
   "source": [
    "try:\n",
    "    tmp.get_level_values(level=2)\n",
    "except Exception as e:\n",
    "    print(f\"Error: {e}\")"
   ]
  },
  {
   "cell_type": "code",
   "execution_count": 11,
   "metadata": {},
   "outputs": [],
   "source": [
    "del tmp"
   ]
  },
  {
   "cell_type": "markdown",
   "metadata": {},
   "source": [
    "Library versions:\n",
    "- **pandas==1.4.3**\n",
    "- **numpy==1.26.4** \n",
    "\n",
    "Here is the actual code snippet which introduced me to the function"
   ]
  },
  {
   "cell_type": "code",
   "execution_count": 15,
   "metadata": {},
   "outputs": [
    {
     "data": {
      "text/plain": [
       "'\\nrows, index_rows = np.unique(\\n    X.index.get_level_values(level=f.cust_id).values, return_inverse=True\\n)\\n\\ncols, index_cols = np.unique(\\n    X.index.get_level_values(level=\"agg_col\").values, return_inverse=True\\n)\\n\\n- f.cust_id : str = \"cust_id\" \\n- X : pd.DataFrame = >9*10^6 rows and 1 column \\n    - column name = tx_net [transaction ratio of a customer for an item category (normalized)] \\n    - index = MultiIndex(levels=[\\'cust_id\\', \\'agg_col\\'])\\n        - cust_id = unique customer ID\\n        - agg_col = ID of the product category\\n\\nX.index returns the following:\\n    MultiIndex([(       10,  4),\\n                (       18, 15),\\n                (       18, 21),\\n                (       19,  8),\\n                (       19, 12),\\n                (       21,  1),\\n                (       21, 13),\\n                (       22,  4),\\n                (       23,  4),\\n                (       35, -1),\\n                ...\\n                (115885741, 15),\\n                (115890981, 14),\\n                (115898751, -1),\\n                (115899116, -1),\\n                (115899248, -1),\\n                (115899591, 16),\\n                (115900226,  8),\\n                (115900681,  4),\\n                (115900681, 15),\\n                (115900758, 21)],\\n            names=[\\'cust_id\\', \\'agg_col\\'], length=9206259)\\n\\n\\n`rows` contains all the unique customer IDs found in the index of DataFrame `X`. \\n`index_rows` provides the indices that map each customer ID in the original index to its position in the rows array of unique customer IDs.\\n\\n`cols` will contain all the unique values from the `\"agg_col\"` level of the index in the DataFrame `X`.\\n`index_cols` provides the indices that map each value in the original `\"agg_col\"` level to its position in the `cols` array of unique values from `\"agg_col\"`.\\n'"
      ]
     },
     "execution_count": 15,
     "metadata": {},
     "output_type": "execute_result"
    }
   ],
   "source": [
    "\"\"\"\n",
    "rows, index_rows = np.unique(\n",
    "    X.index.get_level_values(level=f.cust_id).values, return_inverse=True\n",
    ")\n",
    "\n",
    "cols, index_cols = np.unique(\n",
    "    X.index.get_level_values(level=\"agg_col\").values, return_inverse=True\n",
    ")\n",
    "\n",
    "- f.cust_id : str = \"cust_id\" \n",
    "- X : pd.DataFrame = >9*10^6 rows and 1 column \n",
    "    - column name = tx_net [transaction ratio of a customer for an item category (normalized)] \n",
    "    - index = MultiIndex(levels=['cust_id', 'agg_col'])\n",
    "        - cust_id = unique customer ID\n",
    "        - agg_col = ID of the product category\n",
    "\n",
    "X.index returns the following:\n",
    "    MultiIndex([(       10,  4),\n",
    "                (       18, 15),\n",
    "                (       18, 21),\n",
    "                (       19,  8),\n",
    "                (       19, 12),\n",
    "                (       21,  1),\n",
    "                (       21, 13),\n",
    "                (       22,  4),\n",
    "                (       23,  4),\n",
    "                (       35, -1),\n",
    "                ...\n",
    "                (115885741, 15),\n",
    "                (115890981, 14),\n",
    "                (115898751, -1),\n",
    "                (115899116, -1),\n",
    "                (115899248, -1),\n",
    "                (115899591, 16),\n",
    "                (115900226,  8),\n",
    "                (115900681,  4),\n",
    "                (115900681, 15),\n",
    "                (115900758, 21)],\n",
    "            names=['cust_id', 'agg_col'], length=9206259)\n",
    "\"\"\""
   ]
  },
  {
   "cell_type": "markdown",
   "metadata": {},
   "source": [
    "`rows` contains all the unique customer IDs found in the index of DataFrame `X`. \n",
    "`index_rows` provides the indices that map each customer ID in the original index to its position in the rows array of unique customer IDs.\n",
    "\n",
    "`cols` will contain all the unique values from the `\"agg_col\"` level of the index in the DataFrame `X`.\n",
    "`index_cols` provides the indices that map each value in the original `\"agg_col\"` level to its position in the `cols` array of unique values from `\"agg_col\"`."
   ]
  }
 ],
 "metadata": {
  "kernelspec": {
   "display_name": "Python 3",
   "language": "python",
   "name": "python3"
  },
  "language_info": {
   "codemirror_mode": {
    "name": "ipython",
    "version": 3
   },
   "file_extension": ".py",
   "mimetype": "text/x-python",
   "name": "python",
   "nbconvert_exporter": "python",
   "pygments_lexer": "ipython3",
   "version": "3.10.0"
  }
 },
 "nbformat": 4,
 "nbformat_minor": 2
}
