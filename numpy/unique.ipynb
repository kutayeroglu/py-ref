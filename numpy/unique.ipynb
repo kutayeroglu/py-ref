{
 "cells": [
  {
   "cell_type": "markdown",
   "metadata": {},
   "source": [
    "# numpy.unique </br>\n",
    "doc: https://numpy.org/doc/stable/reference/generated/numpy.unique.html"
   ]
  },
  {
   "cell_type": "code",
   "execution_count": 4,
   "metadata": {},
   "outputs": [
    {
     "name": "stdout",
     "output_type": "stream",
     "text": [
      "Numpy version: 2.1.0\n"
     ]
    }
   ],
   "source": [
    "import numpy as np\n",
    "print(f\"Numpy version: {np.__version__}\")"
   ]
  },
  {
   "cell_type": "code",
   "execution_count": 8,
   "metadata": {},
   "outputs": [
    {
     "name": "stdout",
     "output_type": "stream",
     "text": [
      "customer_ids: ['cust1' 'cust2' 'cust2' 'cust3' 'cust1']\n"
     ]
    }
   ],
   "source": [
    "customer_ids = np.array(['cust1', 'cust2', 'cust2', 'cust3', 'cust1'])\n",
    "print(f\"customer_ids: {customer_ids}\")"
   ]
  },
  {
   "cell_type": "code",
   "execution_count": 7,
   "metadata": {},
   "outputs": [
    {
     "name": "stdout",
     "output_type": "stream",
     "text": [
      "Unique IDs: ['cust1' 'cust2' 'cust3']\n",
      "Index IDs: [0 1 1 2 0]\n"
     ]
    }
   ],
   "source": [
    "unique_ids, index_ids = np.unique(customer_ids, return_inverse=True)\n",
    "print(f\"Unique IDs: {unique_ids}\")\n",
    "print(f\"Index IDs: {index_ids}\")"
   ]
  },
  {
   "cell_type": "markdown",
   "metadata": {},
   "source": [
    "`index_ids`: This array represents the positions of the original customer IDs in the unique_ids array:\n",
    "- The first cust1 corresponds to index 0 in unique_ids.\n",
    "- Both occurrences of cust2 correspond to index 1 in unique_ids.\n",
    "- cust3 corresponds to index 2 in unique_ids.\n",
    "- The second cust1 again corresponds to index 0 in unique_ids."
   ]
  }
 ],
 "metadata": {
  "kernelspec": {
   "display_name": "py-ref-venv",
   "language": "python",
   "name": "python3"
  },
  "language_info": {
   "codemirror_mode": {
    "name": "ipython",
    "version": 3
   },
   "file_extension": ".py",
   "mimetype": "text/x-python",
   "name": "python",
   "nbconvert_exporter": "python",
   "pygments_lexer": "ipython3",
   "version": "3.10.0"
  }
 },
 "nbformat": 4,
 "nbformat_minor": 2
}
